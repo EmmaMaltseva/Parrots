{
  "cells": [
    {
      "cell_type": "code",
      "execution_count": 3,
      "metadata": {
        "id": "Z1xmJ5hS2kUx"
      },
      "outputs": [],
      "source": [
        "from fastai.vision.all import *\n",
        "from fastai.vision.widgets import *\n",
        "\n",
        "path = Path()\n",
        "learn_inf = load_learner(path/'export.pkl')"
      ]
    },
    {
      "cell_type": "code",
      "execution_count": 7,
      "metadata": {
        "id": "DrD3lytdq2E9"
      },
      "outputs": [],
      "source": [
        "btn_upload = widgets.FileUpload()\n",
        "out_pl = widgets.Output()\n",
        "out_pl.clear_output()\n",
        "lbl_pred = widgets.Label()\n",
        "btn_run = widgets.Button(description='Classify')"
      ]
    },
    {
      "cell_type": "code",
      "execution_count": 8,
      "metadata": {
        "id": "_BnqQ_Qhq5ij"
      },
      "outputs": [],
      "source": [
        "def on_click_classify(change):\n",
        "    img = PILImage.create(btn_upload.data[-1])\n",
        "    out_pl.clear_output()\n",
        "    with out_pl: display(img.to_thumb(128,128))\n",
        "    pred,pred_idx,probs = learn_inf.predict(img)\n",
        "    lbl_pred.value = f'Prediction: {pred}; Probability: {probs[pred_idx]:.04f}'\n",
        "\n",
        "btn_run.on_click(on_click_classify)"
      ]
    },
    {
      "cell_type": "code",
      "execution_count": 9,
      "metadata": {
        "colab": {
          "base_uri": "https://localhost:8080/",
          "height": 273,
          "referenced_widgets": [
            "024c18f979484fa6952fc3afacf8baa9",
            "5bb0b21d695f40a38dad7b4d8b6697cc",
            "a2fb9d489c09408d9c57fa1a06e5b5b1",
            "cabcff2e1f0f47af8b8998c2ea260e44",
            "9169346423ac44c99ea321affe5d70cc",
            "ca0c9f4ec88641689405b2844e0b90dd",
            "41e56407850443c6b5743288213724f3",
            "90c7aac19c81475a985566bbf4db0806",
            "347ec7750e1149ec9e4b4655bf2924c3",
            "a963a1e7b65c44b4ac7e7d29e2e7b3f8",
            "0f98f8cbc6f548eb83c7d1e12f2eed1f",
            "03e716bbdad74f7486baeefbf5ab0f6b",
            "c46275d629f846f3939c6f6fe794a09f",
            "556fcb878c684e639aaa61cc72b149b8",
            "5d710b9996744dcfa673583bad3af308",
            "1f9fc9ca4fae45ea89a30d29554dab6f"
          ]
        },
        "id": "QH7F88Nyq7g3",
        "outputId": "0270a3ba-b08b-4e39-83eb-8fa746f88108"
      },
      "outputs": [
        {
          "data": {
            "application/vnd.jupyter.widget-view+json": {
              "model_id": "024c18f979484fa6952fc3afacf8baa9",
              "version_major": 2,
              "version_minor": 0
            },
            "text/plain": [
              "VBox(children=(Label(value='Upload macaw,wavy or king parrot!'), FileUpload(value={}, description='Upload'), B…"
            ]
          },
          "metadata": {},
          "output_type": "display_data"
        },
        {
          "data": {
            "text/html": [
              "\n",
              "<style>\n",
              "    /* Turns off some styling */\n",
              "    progress {\n",
              "        /* gets rid of default border in Firefox and Opera. */\n",
              "        border: none;\n",
              "        /* Needs to be in here for Safari polyfill so background images work as expected. */\n",
              "        background-size: auto;\n",
              "    }\n",
              "    .progress-bar-interrupted, .progress-bar-interrupted::-webkit-progress-bar {\n",
              "        background: #F44336;\n",
              "    }\n",
              "</style>\n"
            ],
            "text/plain": [
              "<IPython.core.display.HTML object>"
            ]
          },
          "metadata": {},
          "output_type": "display_data"
        },
        {
          "data": {
            "text/html": [],
            "text/plain": [
              "<IPython.core.display.HTML object>"
            ]
          },
          "metadata": {},
          "output_type": "display_data"
        }
      ],
      "source": [
        "VBox([widgets.Label('Upload macaw, wavy or king parrot!'), btn_upload, btn_run, out_pl, lbl_pred])"
      ]
    }
  ],
  "metadata": {
    "accelerator": "GPU",
    "colab": {
      "collapsed_sections": [],
      "name": "types_parrots_start.ipynb",
      "provenance": []
    },
    "kernelspec": {
      "display_name": "Python 3",
      "name": "python3"
    },
    "language_info": {
      "name": "python"
    },
    "widgets": {
      "application/vnd.jupyter.widget-state+json": {
        "024c18f979484fa6952fc3afacf8baa9": {
          "model_module": "@jupyter-widgets/controls",
          "model_module_version": "1.5.0",
          "model_name": "VBoxModel",
          "state": {
            "_dom_classes": [],
            "_model_module": "@jupyter-widgets/controls",
            "_model_module_version": "1.5.0",
            "_model_name": "VBoxModel",
            "_view_count": null,
            "_view_module": "@jupyter-widgets/controls",
            "_view_module_version": "1.5.0",
            "_view_name": "VBoxView",
            "box_style": "",
            "children": [
              "IPY_MODEL_5bb0b21d695f40a38dad7b4d8b6697cc",
              "IPY_MODEL_a2fb9d489c09408d9c57fa1a06e5b5b1",
              "IPY_MODEL_cabcff2e1f0f47af8b8998c2ea260e44",
              "IPY_MODEL_9169346423ac44c99ea321affe5d70cc",
              "IPY_MODEL_ca0c9f4ec88641689405b2844e0b90dd"
            ],
            "layout": "IPY_MODEL_41e56407850443c6b5743288213724f3"
          }
        },
        "03e716bbdad74f7486baeefbf5ab0f6b": {
          "model_module": "@jupyter-widgets/base",
          "model_module_version": "1.2.0",
          "model_name": "LayoutModel",
          "state": {
            "_model_module": "@jupyter-widgets/base",
            "_model_module_version": "1.2.0",
            "_model_name": "LayoutModel",
            "_view_count": null,
            "_view_module": "@jupyter-widgets/base",
            "_view_module_version": "1.2.0",
            "_view_name": "LayoutView",
            "align_content": null,
            "align_items": null,
            "align_self": null,
            "border": null,
            "bottom": null,
            "display": null,
            "flex": null,
            "flex_flow": null,
            "grid_area": null,
            "grid_auto_columns": null,
            "grid_auto_flow": null,
            "grid_auto_rows": null,
            "grid_column": null,
            "grid_gap": null,
            "grid_row": null,
            "grid_template_areas": null,
            "grid_template_columns": null,
            "grid_template_rows": null,
            "height": null,
            "justify_content": null,
            "justify_items": null,
            "left": null,
            "margin": null,
            "max_height": null,
            "max_width": null,
            "min_height": null,
            "min_width": null,
            "object_fit": null,
            "object_position": null,
            "order": null,
            "overflow": null,
            "overflow_x": null,
            "overflow_y": null,
            "padding": null,
            "right": null,
            "top": null,
            "visibility": null,
            "width": null
          }
        },
        "0f98f8cbc6f548eb83c7d1e12f2eed1f": {
          "model_module": "@jupyter-widgets/controls",
          "model_module_version": "1.5.0",
          "model_name": "ButtonStyleModel",
          "state": {
            "_model_module": "@jupyter-widgets/controls",
            "_model_module_version": "1.5.0",
            "_model_name": "ButtonStyleModel",
            "_view_count": null,
            "_view_module": "@jupyter-widgets/base",
            "_view_module_version": "1.2.0",
            "_view_name": "StyleView",
            "button_color": null,
            "font_weight": ""
          }
        },
        "1f9fc9ca4fae45ea89a30d29554dab6f": {
          "model_module": "@jupyter-widgets/base",
          "model_module_version": "1.2.0",
          "model_name": "LayoutModel",
          "state": {
            "_model_module": "@jupyter-widgets/base",
            "_model_module_version": "1.2.0",
            "_model_name": "LayoutModel",
            "_view_count": null,
            "_view_module": "@jupyter-widgets/base",
            "_view_module_version": "1.2.0",
            "_view_name": "LayoutView",
            "align_content": null,
            "align_items": null,
            "align_self": null,
            "border": null,
            "bottom": null,
            "display": null,
            "flex": null,
            "flex_flow": null,
            "grid_area": null,
            "grid_auto_columns": null,
            "grid_auto_flow": null,
            "grid_auto_rows": null,
            "grid_column": null,
            "grid_gap": null,
            "grid_row": null,
            "grid_template_areas": null,
            "grid_template_columns": null,
            "grid_template_rows": null,
            "height": null,
            "justify_content": null,
            "justify_items": null,
            "left": null,
            "margin": null,
            "max_height": null,
            "max_width": null,
            "min_height": null,
            "min_width": null,
            "object_fit": null,
            "object_position": null,
            "order": null,
            "overflow": null,
            "overflow_x": null,
            "overflow_y": null,
            "padding": null,
            "right": null,
            "top": null,
            "visibility": null,
            "width": null
          }
        },
        "347ec7750e1149ec9e4b4655bf2924c3": {
          "model_module": "@jupyter-widgets/controls",
          "model_module_version": "1.5.0",
          "model_name": "DescriptionStyleModel",
          "state": {
            "_model_module": "@jupyter-widgets/controls",
            "_model_module_version": "1.5.0",
            "_model_name": "DescriptionStyleModel",
            "_view_count": null,
            "_view_module": "@jupyter-widgets/base",
            "_view_module_version": "1.2.0",
            "_view_name": "StyleView",
            "description_width": ""
          }
        },
        "41e56407850443c6b5743288213724f3": {
          "model_module": "@jupyter-widgets/base",
          "model_module_version": "1.2.0",
          "model_name": "LayoutModel",
          "state": {
            "_model_module": "@jupyter-widgets/base",
            "_model_module_version": "1.2.0",
            "_model_name": "LayoutModel",
            "_view_count": null,
            "_view_module": "@jupyter-widgets/base",
            "_view_module_version": "1.2.0",
            "_view_name": "LayoutView",
            "align_content": null,
            "align_items": null,
            "align_self": null,
            "border": null,
            "bottom": null,
            "display": null,
            "flex": null,
            "flex_flow": null,
            "grid_area": null,
            "grid_auto_columns": null,
            "grid_auto_flow": null,
            "grid_auto_rows": null,
            "grid_column": null,
            "grid_gap": null,
            "grid_row": null,
            "grid_template_areas": null,
            "grid_template_columns": null,
            "grid_template_rows": null,
            "height": null,
            "justify_content": null,
            "justify_items": null,
            "left": null,
            "margin": null,
            "max_height": null,
            "max_width": null,
            "min_height": null,
            "min_width": null,
            "object_fit": null,
            "object_position": null,
            "order": null,
            "overflow": null,
            "overflow_x": null,
            "overflow_y": null,
            "padding": null,
            "right": null,
            "top": null,
            "visibility": null,
            "width": null
          }
        },
        "556fcb878c684e639aaa61cc72b149b8": {
          "model_module": "@jupyter-widgets/base",
          "model_module_version": "1.2.0",
          "model_name": "LayoutModel",
          "state": {
            "_model_module": "@jupyter-widgets/base",
            "_model_module_version": "1.2.0",
            "_model_name": "LayoutModel",
            "_view_count": null,
            "_view_module": "@jupyter-widgets/base",
            "_view_module_version": "1.2.0",
            "_view_name": "LayoutView",
            "align_content": null,
            "align_items": null,
            "align_self": null,
            "border": null,
            "bottom": null,
            "display": null,
            "flex": null,
            "flex_flow": null,
            "grid_area": null,
            "grid_auto_columns": null,
            "grid_auto_flow": null,
            "grid_auto_rows": null,
            "grid_column": null,
            "grid_gap": null,
            "grid_row": null,
            "grid_template_areas": null,
            "grid_template_columns": null,
            "grid_template_rows": null,
            "height": null,
            "justify_content": null,
            "justify_items": null,
            "left": null,
            "margin": null,
            "max_height": null,
            "max_width": null,
            "min_height": null,
            "min_width": null,
            "object_fit": null,
            "object_position": null,
            "order": null,
            "overflow": null,
            "overflow_x": null,
            "overflow_y": null,
            "padding": null,
            "right": null,
            "top": null,
            "visibility": null,
            "width": null
          }
        },
        "5bb0b21d695f40a38dad7b4d8b6697cc": {
          "model_module": "@jupyter-widgets/controls",
          "model_module_version": "1.5.0",
          "model_name": "LabelModel",
          "state": {
            "_dom_classes": [],
            "_model_module": "@jupyter-widgets/controls",
            "_model_module_version": "1.5.0",
            "_model_name": "LabelModel",
            "_view_count": null,
            "_view_module": "@jupyter-widgets/controls",
            "_view_module_version": "1.5.0",
            "_view_name": "LabelView",
            "description": "",
            "description_tooltip": null,
            "layout": "IPY_MODEL_90c7aac19c81475a985566bbf4db0806",
            "placeholder": "​",
            "style": "IPY_MODEL_347ec7750e1149ec9e4b4655bf2924c3",
            "value": "Upload macaw,wavy or king parrot!"
          }
        },
        "5d710b9996744dcfa673583bad3af308": {
          "model_module": "@jupyter-widgets/controls",
          "model_module_version": "1.5.0",
          "model_name": "DescriptionStyleModel",
          "state": {
            "_model_module": "@jupyter-widgets/controls",
            "_model_module_version": "1.5.0",
            "_model_name": "DescriptionStyleModel",
            "_view_count": null,
            "_view_module": "@jupyter-widgets/base",
            "_view_module_version": "1.2.0",
            "_view_name": "StyleView",
            "description_width": ""
          }
        },
        "90c7aac19c81475a985566bbf4db0806": {
          "model_module": "@jupyter-widgets/base",
          "model_module_version": "1.2.0",
          "model_name": "LayoutModel",
          "state": {
            "_model_module": "@jupyter-widgets/base",
            "_model_module_version": "1.2.0",
            "_model_name": "LayoutModel",
            "_view_count": null,
            "_view_module": "@jupyter-widgets/base",
            "_view_module_version": "1.2.0",
            "_view_name": "LayoutView",
            "align_content": null,
            "align_items": null,
            "align_self": null,
            "border": null,
            "bottom": null,
            "display": null,
            "flex": null,
            "flex_flow": null,
            "grid_area": null,
            "grid_auto_columns": null,
            "grid_auto_flow": null,
            "grid_auto_rows": null,
            "grid_column": null,
            "grid_gap": null,
            "grid_row": null,
            "grid_template_areas": null,
            "grid_template_columns": null,
            "grid_template_rows": null,
            "height": null,
            "justify_content": null,
            "justify_items": null,
            "left": null,
            "margin": null,
            "max_height": null,
            "max_width": null,
            "min_height": null,
            "min_width": null,
            "object_fit": null,
            "object_position": null,
            "order": null,
            "overflow": null,
            "overflow_x": null,
            "overflow_y": null,
            "padding": null,
            "right": null,
            "top": null,
            "visibility": null,
            "width": null
          }
        },
        "9169346423ac44c99ea321affe5d70cc": {
          "model_module": "@jupyter-widgets/output",
          "model_module_version": "1.0.0",
          "model_name": "OutputModel",
          "state": {
            "_dom_classes": [],
            "_model_module": "@jupyter-widgets/output",
            "_model_module_version": "1.0.0",
            "_model_name": "OutputModel",
            "_view_count": null,
            "_view_module": "@jupyter-widgets/output",
            "_view_module_version": "1.0.0",
            "_view_name": "OutputView",
            "layout": "IPY_MODEL_1f9fc9ca4fae45ea89a30d29554dab6f",
            "msg_id": "",
            "outputs": [
              {
                "data": {
                  "image/png": "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\n",
                  "text/plain": "<PIL.Image.Image image mode=RGB size=96x128 at 0x7F23DFF27E90>"
                },
                "metadata": {},
                "output_type": "display_data"
              }
            ]
          }
        },
        "a2fb9d489c09408d9c57fa1a06e5b5b1": {
          "model_module": "@jupyter-widgets/controls",
          "model_module_version": "1.5.0",
          "model_name": "FileUploadModel",
          "state": {
            "_counter": 1,
            "_dom_classes": [],
            "_model_module": "@jupyter-widgets/controls",
            "_model_module_version": "1.5.0",
            "_model_name": "FileUploadModel",
            "_view_count": null,
            "_view_module": "@jupyter-widgets/controls",
            "_view_module_version": "1.5.0",
            "_view_name": "FileUploadView",
            "accept": "",
            "button_style": "",
            "data": [
              null
            ],
            "description": "Upload",
            "description_tooltip": null,
            "disabled": false,
            "error": "",
            "icon": "upload",
            "layout": "IPY_MODEL_a963a1e7b65c44b4ac7e7d29e2e7b3f8",
            "metadata": [
              {
                "lastModified": 1648912084047,
                "name": "5e7c94fce7d7ce5e7116a466.jpg",
                "size": 156873,
                "type": "image/jpeg"
              }
            ],
            "multiple": false,
            "style": "IPY_MODEL_0f98f8cbc6f548eb83c7d1e12f2eed1f"
          }
        },
        "a963a1e7b65c44b4ac7e7d29e2e7b3f8": {
          "model_module": "@jupyter-widgets/base",
          "model_module_version": "1.2.0",
          "model_name": "LayoutModel",
          "state": {
            "_model_module": "@jupyter-widgets/base",
            "_model_module_version": "1.2.0",
            "_model_name": "LayoutModel",
            "_view_count": null,
            "_view_module": "@jupyter-widgets/base",
            "_view_module_version": "1.2.0",
            "_view_name": "LayoutView",
            "align_content": null,
            "align_items": null,
            "align_self": null,
            "border": null,
            "bottom": null,
            "display": null,
            "flex": null,
            "flex_flow": null,
            "grid_area": null,
            "grid_auto_columns": null,
            "grid_auto_flow": null,
            "grid_auto_rows": null,
            "grid_column": null,
            "grid_gap": null,
            "grid_row": null,
            "grid_template_areas": null,
            "grid_template_columns": null,
            "grid_template_rows": null,
            "height": null,
            "justify_content": null,
            "justify_items": null,
            "left": null,
            "margin": null,
            "max_height": null,
            "max_width": null,
            "min_height": null,
            "min_width": null,
            "object_fit": null,
            "object_position": null,
            "order": null,
            "overflow": null,
            "overflow_x": null,
            "overflow_y": null,
            "padding": null,
            "right": null,
            "top": null,
            "visibility": null,
            "width": null
          }
        },
        "c46275d629f846f3939c6f6fe794a09f": {
          "model_module": "@jupyter-widgets/controls",
          "model_module_version": "1.5.0",
          "model_name": "ButtonStyleModel",
          "state": {
            "_model_module": "@jupyter-widgets/controls",
            "_model_module_version": "1.5.0",
            "_model_name": "ButtonStyleModel",
            "_view_count": null,
            "_view_module": "@jupyter-widgets/base",
            "_view_module_version": "1.2.0",
            "_view_name": "StyleView",
            "button_color": null,
            "font_weight": ""
          }
        },
        "ca0c9f4ec88641689405b2844e0b90dd": {
          "model_module": "@jupyter-widgets/controls",
          "model_module_version": "1.5.0",
          "model_name": "LabelModel",
          "state": {
            "_dom_classes": [],
            "_model_module": "@jupyter-widgets/controls",
            "_model_module_version": "1.5.0",
            "_model_name": "LabelModel",
            "_view_count": null,
            "_view_module": "@jupyter-widgets/controls",
            "_view_module_version": "1.5.0",
            "_view_name": "LabelView",
            "description": "",
            "description_tooltip": null,
            "layout": "IPY_MODEL_556fcb878c684e639aaa61cc72b149b8",
            "placeholder": "​",
            "style": "IPY_MODEL_5d710b9996744dcfa673583bad3af308",
            "value": "Prediction: wavy; Probability: 0.8289"
          }
        },
        "cabcff2e1f0f47af8b8998c2ea260e44": {
          "model_module": "@jupyter-widgets/controls",
          "model_module_version": "1.5.0",
          "model_name": "ButtonModel",
          "state": {
            "_dom_classes": [],
            "_model_module": "@jupyter-widgets/controls",
            "_model_module_version": "1.5.0",
            "_model_name": "ButtonModel",
            "_view_count": null,
            "_view_module": "@jupyter-widgets/controls",
            "_view_module_version": "1.5.0",
            "_view_name": "ButtonView",
            "button_style": "",
            "description": "Classify",
            "disabled": false,
            "icon": "",
            "layout": "IPY_MODEL_03e716bbdad74f7486baeefbf5ab0f6b",
            "style": "IPY_MODEL_c46275d629f846f3939c6f6fe794a09f",
            "tooltip": ""
          }
        }
      }
    }
  },
  "nbformat": 4,
  "nbformat_minor": 0
}
